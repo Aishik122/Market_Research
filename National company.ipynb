{
 "cells": [
  {
   "cell_type": "code",
   "execution_count": 1,
   "metadata": {},
   "outputs": [],
   "source": [
    "import pandas as pd\n"
   ]
  },
  {
   "cell_type": "code",
   "execution_count": null,
   "metadata": {},
   "outputs": [],
   "source": [
    "Siliguri=pd.read_csv(r'D:\\mar_res_data\\National\\Siliguri.csv')\n",
    "Sector5=pd.read_csv(r'D:\\mar_res_data\\National\\Sector5.csv')\n",
    "Sealdah=pd.read_csv(r'D:\\mar_res_data\\National\\Sealdah.csv')\n",
    "Kolkata=pd.read_csv(r'D:\\mar_res_data\\National\\Kolkata.csv')\n",
    "Kharagpur=pd.read_csv(r'D:\\mar_res_data\\National\\Kharagpur.csv')\n",
    "Howrah=pd.read_csv(r'D:\\mar_res_data\\National\\Howrah.csv')\n",
    "Hoogly=pd.read_csv(r'D:\\mar_res_data\\National\\Hoogly.csv')\n",
    "Haldia=pd.read_csv(r'D:\\mar_res_data\\National\\Haldia.csv')\n",
    "Durgapur=pd.read_csv(r'D:\\mar_res_data\\National\\Durgapur.csv')\n",
    "Bidhannagar=pd.read_csv(r'D:\\mar_res_data\\National\\Bidhannagar.csv')\n",
    "Asansol=pd.read_csv(r'D:\\mar_res_data\\National\\Asansol.csv')"
   ]
  }
 ],
 "metadata": {
  "kernelspec": {
   "display_name": "Python 3",
   "language": "python",
   "name": "python3"
  },
  "language_info": {
   "codemirror_mode": {
    "name": "ipython",
    "version": 3
   },
   "file_extension": ".py",
   "mimetype": "text/x-python",
   "name": "python",
   "nbconvert_exporter": "python",
   "pygments_lexer": "ipython3",
   "version": "3.11.6"
  }
 },
 "nbformat": 4,
 "nbformat_minor": 2
}
